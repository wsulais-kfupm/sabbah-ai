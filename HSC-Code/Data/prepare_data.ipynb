{
 "cells": [
  {
   "cell_type": "markdown",
   "id": "cf54f507-58a2-4bcb-ac82-1830a5ac0b46",
   "metadata": {},
   "source": [
    "# Data Preprocessing"
   ]
  },
  {
   "cell_type": "code",
   "execution_count": 1,
   "id": "39636d30-852a-4df1-9999-1cab4717ea18",
   "metadata": {
    "tags": []
   },
   "outputs": [],
   "source": [
    "import pandas as pd\n",
    "from preprocess import Preprocess\n",
    "from sklearn.model_selection import train_test_split\n",
    "from arabert.preprocess import ArabertPreprocessor"
   ]
  },
  {
   "cell_type": "code",
   "execution_count": 2,
   "id": "dbb8617d-025b-4de5-a454-d724929fede1",
   "metadata": {
    "tags": []
   },
   "outputs": [],
   "source": [
    "arHate_dir=\"./arHateDataset.csv\"\n",
    "dataset_name = 'arHAteDataset'\n",
    "model_name = 'UBC-NLP/MARBERTv2'\n",
    "max_len = 128\n",
    "LABELS=[0,1]\n",
    "DATA_COLUMN='text'\n",
    "LABEL_COLUMN='labels'"
   ]
  },
  {
   "cell_type": "code",
   "execution_count": 3,
   "id": "636c7902-4f00-4307-abe2-6826726cc5b0",
   "metadata": {
    "tags": []
   },
   "outputs": [],
   "source": [
    "# Uploading Dataset\n",
    "df=pd.read_csv(arHate_dir)\n",
    "df=df.rename(columns={'Tweet': DATA_COLUMN, 'Class': LABEL_COLUMN})"
   ]
  },
  {
   "cell_type": "code",
   "execution_count": 4,
   "id": "bd691daa-ea14-49c7-9246-410eff10cb9d",
   "metadata": {
    "tags": []
   },
   "outputs": [],
   "source": [
    "# Create balanced Dataframe\n",
    "df_0=df[df[LABEL_COLUMN]==0]\n",
    "n_hs=len(df[df[LABEL_COLUMN]==1])\n",
    "idx2drop = df_0.sample(n_hs).index\n",
    "df=df.drop(idx2drop)"
   ]
  },
  {
   "cell_type": "code",
   "execution_count": 5,
   "id": "59fa1187-7a66-44bb-a644-2d8f816f7cde",
   "metadata": {
    "tags": []
   },
   "outputs": [
    {
     "name": "stderr",
     "output_type": "stream",
     "text": [
      "WARNING:root:Model provided is not in the accepted model list. Preprocessor will default to a base Arabic preprocessor\n"
     ]
    }
   ],
   "source": [
    "# Preprocessing Data Using Custom & Arabert Preprocessing\n",
    "preprocessor=Preprocess(df[DATA_COLUMN])\n",
    "arabert_prep = ArabertPreprocessor(model_name.split(\"/\")[-1])\n",
    "\n",
    "df[DATA_COLUMN]=preprocessor.preprocess()\n",
    "df[DATA_COLUMN]=df[DATA_COLUMN].apply(lambda x: arabert_prep.preprocess(x))"
   ]
  },
  {
   "cell_type": "code",
   "execution_count": 6,
   "id": "14ac2646-cedf-4808-b2df-8e138ec02fe8",
   "metadata": {
    "tags": []
   },
   "outputs": [],
   "source": [
    "# Remove NaNs\n",
    "df=df.dropna()"
   ]
  },
  {
   "cell_type": "code",
   "execution_count": 7,
   "id": "4ba7c416-82c7-4040-b9ab-79bc32701474",
   "metadata": {
    "tags": []
   },
   "outputs": [],
   "source": [
    "# Split and Create Dataset\n",
    "train, test= train_test_split(df, test_size=0.2, random_state=1)\n",
    "test, val= train_test_split(test, test_size=0.5, random_state=1)"
   ]
  },
  {
   "cell_type": "code",
   "execution_count": 8,
   "id": "1f1a1bd0-f846-4ad7-8b5d-907ad31751ae",
   "metadata": {
    "tags": []
   },
   "outputs": [],
   "source": [
    "\n",
    "# Balancing Dataset\n",
    "train=pd.concat(\n",
    "    [\n",
    "        train[train[LABEL_COLUMN]==0].sample(\n",
    "            len(train[train[LABEL_COLUMN]==1]), random_state=42, replace=False\n",
    "        ),\n",
    "        train[train[LABEL_COLUMN]==1],\n",
    "    ])\n",
    "test=pd.concat(\n",
    "    [\n",
    "        test[test[LABEL_COLUMN]==0].sample(\n",
    "            len(test[test[LABEL_COLUMN]==1]), random_state=42, replace=False\n",
    "        ),\n",
    "        test[test[LABEL_COLUMN]==1],\n",
    "    ])\n",
    "\n",
    "val=pd.concat(\n",
    "    [\n",
    "        val[val[LABEL_COLUMN]==0].sample(\n",
    "            len(val[val[LABEL_COLUMN]==1]), random_state=42, replace=False\n",
    "        ),\n",
    "        val[val[LABEL_COLUMN]==1],\n",
    "    ])"
   ]
  },
  {
   "cell_type": "code",
   "execution_count": 9,
   "id": "e41e2d4d-2dbc-42ad-96c5-51e236c29129",
   "metadata": {
    "tags": []
   },
   "outputs": [],
   "source": [
    "# Check if Dataset is Balanced\n",
    "assert len(train[train[LABEL_COLUMN]==1]) == len(train[train[LABEL_COLUMN]==0])\n",
    "assert len(test[test[LABEL_COLUMN]==1]) == len(test[test[LABEL_COLUMN]==0])\n",
    "assert len(val[val[LABEL_COLUMN]==1]) == len(val[val[LABEL_COLUMN]==0])"
   ]
  },
  {
   "cell_type": "code",
   "execution_count": 10,
   "id": "e393ed5e-e71b-4624-903b-0fdbf2a47d8c",
   "metadata": {
    "tags": []
   },
   "outputs": [],
   "source": [
    "# Resetting Indexing \n",
    "train=train.reset_index(drop=True)\n",
    "test=test.reset_index(drop=True)\n",
    "val=val.reset_index(drop=True)"
   ]
  },
  {
   "cell_type": "code",
   "execution_count": 11,
   "id": "a6040b3c-4b29-42ff-a2bc-6fb6d8040204",
   "metadata": {
    "tags": []
   },
   "outputs": [
    {
     "data": {
      "text/html": [
       "<div>\n",
       "<style scoped>\n",
       "    .dataframe tbody tr th:only-of-type {\n",
       "        vertical-align: middle;\n",
       "    }\n",
       "\n",
       "    .dataframe tbody tr th {\n",
       "        vertical-align: top;\n",
       "    }\n",
       "\n",
       "    .dataframe thead th {\n",
       "        text-align: right;\n",
       "    }\n",
       "</style>\n",
       "<table border=\"1\" class=\"dataframe\">\n",
       "  <thead>\n",
       "    <tr style=\"text-align: right;\">\n",
       "      <th></th>\n",
       "      <th>text</th>\n",
       "      <th>labels</th>\n",
       "    </tr>\n",
       "  </thead>\n",
       "  <tbody>\n",
       "    <tr>\n",
       "      <th>0</th>\n",
       "      <td>انا من رايي نشجع المراءه على اكمال دراستها وتح...</td>\n",
       "      <td>0</td>\n",
       "    </tr>\n",
       "    <tr>\n",
       "      <th>1</th>\n",
       "      <td>لو العيال يجروا ورا مستقبلهم زى ما بيجروا ورا ...</td>\n",
       "      <td>0</td>\n",
       "    </tr>\n",
       "    <tr>\n",
       "      <th>2</th>\n",
       "      <td>كلنا مسوول علاج مرض كورونا هو البقاء في المناز...</td>\n",
       "      <td>0</td>\n",
       "    </tr>\n",
       "    <tr>\n",
       "      <th>3</th>\n",
       "      <td>قبل كنت اقرا منشورا لاحد الاشخاص يعتبر نفسه عل...</td>\n",
       "      <td>0</td>\n",
       "    </tr>\n",
       "    <tr>\n",
       "      <th>4</th>\n",
       "      <td>من وين عم تجيب مصاري حتى تدفع قسط ابنك بلندن</td>\n",
       "      <td>0</td>\n",
       "    </tr>\n",
       "    <tr>\n",
       "      <th>...</th>\n",
       "      <td>...</td>\n",
       "      <td>...</td>\n",
       "    </tr>\n",
       "    <tr>\n",
       "      <th>17445</th>\n",
       "      <td>انت بس عم تكتب لتفرجي الناس انك بتطااع بالكتب ...</td>\n",
       "      <td>1</td>\n",
       "    </tr>\n",
       "    <tr>\n",
       "      <th>17446</th>\n",
       "      <td>خنازير البنا</td>\n",
       "      <td>1</td>\n",
       "    </tr>\n",
       "    <tr>\n",
       "      <th>17447</th>\n",
       "      <td>خنازير ومرتزقة قناة الجزيرة بدي انذر حكومة الد...</td>\n",
       "      <td>1</td>\n",
       "    </tr>\n",
       "    <tr>\n",
       "      <th>17448</th>\n",
       "      <td>لقدصار الحريري مثل هادي لامريكا الذريعة والايا...</td>\n",
       "      <td>1</td>\n",
       "    </tr>\n",
       "    <tr>\n",
       "      <th>17449</th>\n",
       "      <td>عاجل شرموط مجرم حرب يزور شرموط مجرم حرب تاني متله</td>\n",
       "      <td>1</td>\n",
       "    </tr>\n",
       "  </tbody>\n",
       "</table>\n",
       "<p>17450 rows × 2 columns</p>\n",
       "</div>"
      ],
      "text/plain": [
       "                                                    text  labels\n",
       "0      انا من رايي نشجع المراءه على اكمال دراستها وتح...       0\n",
       "1      لو العيال يجروا ورا مستقبلهم زى ما بيجروا ورا ...       0\n",
       "2      كلنا مسوول علاج مرض كورونا هو البقاء في المناز...       0\n",
       "3      قبل كنت اقرا منشورا لاحد الاشخاص يعتبر نفسه عل...       0\n",
       "4           من وين عم تجيب مصاري حتى تدفع قسط ابنك بلندن       0\n",
       "...                                                  ...     ...\n",
       "17445  انت بس عم تكتب لتفرجي الناس انك بتطااع بالكتب ...       1\n",
       "17446                                       خنازير البنا       1\n",
       "17447  خنازير ومرتزقة قناة الجزيرة بدي انذر حكومة الد...       1\n",
       "17448  لقدصار الحريري مثل هادي لامريكا الذريعة والايا...       1\n",
       "17449  عاجل شرموط مجرم حرب يزور شرموط مجرم حرب تاني متله       1\n",
       "\n",
       "[17450 rows x 2 columns]"
      ]
     },
     "execution_count": 11,
     "metadata": {},
     "output_type": "execute_result"
    }
   ],
   "source": [
    "train"
   ]
  },
  {
   "cell_type": "code",
   "execution_count": 12,
   "id": "baaabe8f-0049-42f1-a027-e96eaedaee4e",
   "metadata": {
    "tags": []
   },
   "outputs": [],
   "source": [
    "# Saving Data to .csv Files\n",
    "train.to_csv(\"train-balanced.csv\")\n",
    "test.to_csv(\"test-balanced.csv\")\n",
    "test.to_csv(\"val-balanced.csv\")"
   ]
  },
  {
   "cell_type": "code",
   "execution_count": null,
   "id": "1211299f-6bd4-4f86-8e29-f4aff21ebd2a",
   "metadata": {},
   "outputs": [],
   "source": []
  }
 ],
 "metadata": {
  "kernelspec": {
   "display_name": "Python 3 (ipykernel)",
   "language": "python",
   "name": "python3"
  },
  "language_info": {
   "codemirror_mode": {
    "name": "ipython",
    "version": 3
   },
   "file_extension": ".py",
   "mimetype": "text/x-python",
   "name": "python",
   "nbconvert_exporter": "python",
   "pygments_lexer": "ipython3",
   "version": "3.9.17"
  }
 },
 "nbformat": 4,
 "nbformat_minor": 5
}
